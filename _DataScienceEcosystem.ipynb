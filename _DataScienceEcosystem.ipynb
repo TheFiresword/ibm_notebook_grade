{
 "cells": [
  {
   "cell_type": "markdown",
   "id": "61babc53-e5c7-4335-ace5-6a24787f610b",
   "metadata": {
    "tags": []
   },
   "source": [
    "# Data Science Tools and Ecosystem"
   ]
  },
  {
   "cell_type": "markdown",
   "id": "ac56640b-689c-45e0-ba14-f15aec51e58d",
   "metadata": {},
   "source": [
    "In this notebook, Data Science Tools and Ecosystem are summarized."
   ]
  },
  {
   "cell_type": "markdown",
   "id": "5b7d22a5-a49b-4001-ab9a-8fcb80c20dad",
   "metadata": {},
   "source": [
    "**Objectives:**\n",
    "- List popular languages for Data Science\n",
    "- List commonly used libraries for Data Science\n",
    "- Table of data Science tools\n",
    "- Use of github"
   ]
  },
  {
   "cell_type": "markdown",
   "id": "293ba7d4-d002-4afd-9bf1-c5bd38443deb",
   "metadata": {},
   "source": [
    "Some of the popular languages that Data Scientists use are:\n",
    "1. Python\n",
    "2. SQL\n",
    "3. R"
   ]
  },
  {
   "cell_type": "markdown",
   "id": "486091ed-6007-4f33-94a2-98fd3a785fc2",
   "metadata": {},
   "source": [
    "Some of the commonly used libraries used by Data Scientists include:\n",
    "1. Tensorflow\n",
    "2. Keras\n",
    "3. Pytorch\n",
    "4. Pandas"
   ]
  },
  {
   "cell_type": "markdown",
   "id": "ce12b452-7a23-4c1b-a99d-8b0c43f31cee",
   "metadata": {},
   "source": [
    "|Data Science Tools|\n",
    "|------------------|\n",
    "|RStudio|\n",
    "|Jupyter Notebook|\n",
    "|Jupyter Lab|"
   ]
  },
  {
   "cell_type": "markdown",
   "id": "d3bf3349-d666-4892-84de-c28133ec7909",
   "metadata": {},
   "source": [
    "<h3>Below are a few examples of evaluating arithmetic expressions in Python</h3>"
   ]
  },
  {
   "cell_type": "code",
   "execution_count": 1,
   "id": "1549cfd9-6a3f-4782-9b80-34f26164825b",
   "metadata": {},
   "outputs": [
    {
     "data": {
      "text/plain": [
       "17"
      ]
     },
     "execution_count": 1,
     "metadata": {},
     "output_type": "execute_result"
    }
   ],
   "source": [
    "# This a simple arithmetic expression to mutiply then add integers\n",
    "(3*4)+5"
   ]
  },
  {
   "cell_type": "code",
   "execution_count": 2,
   "id": "e7cdd339-ecb0-4787-93d1-287de1543c18",
   "metadata": {},
   "outputs": [
    {
     "data": {
      "text/plain": [
       "3.3333333333333335"
      ]
     },
     "execution_count": 2,
     "metadata": {},
     "output_type": "execute_result"
    }
   ],
   "source": [
    "# This will convert 200 minutes to hours by diving by 60\n",
    "200/60"
   ]
  },
  {
   "cell_type": "markdown",
   "id": "c0a60e7a-3cad-42e5-956d-4df60613c242",
   "metadata": {},
   "source": [
    "## Author\n",
    "SEDOGBO Sosthène"
   ]
  },
  {
   "cell_type": "code",
   "execution_count": null,
   "id": "d5355245-006e-4e43-bba0-51aabac604fd",
   "metadata": {},
   "outputs": [],
   "source": []
  }
 ],
 "metadata": {
  "kernelspec": {
   "display_name": "Python",
   "language": "python",
   "name": "conda-env-python-py"
  },
  "language_info": {
   "codemirror_mode": {
    "name": "ipython",
    "version": 3
   },
   "file_extension": ".py",
   "mimetype": "text/x-python",
   "name": "python",
   "nbconvert_exporter": "python",
   "pygments_lexer": "ipython3",
   "version": "3.7.12"
  }
 },
 "nbformat": 4,
 "nbformat_minor": 5
}
